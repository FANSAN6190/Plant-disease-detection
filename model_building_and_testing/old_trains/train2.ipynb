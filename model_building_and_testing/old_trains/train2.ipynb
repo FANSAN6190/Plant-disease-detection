{
 "cells": [
  {
   "cell_type": "code",
   "execution_count": 1,
   "id": "59ee38aa-f33b-4494-a4ab-98de8719d40f",
   "metadata": {},
   "outputs": [
    {
     "name": "stderr",
     "output_type": "stream",
     "text": [
      "2023-09-20 12:59:20.990312: I tensorflow/tsl/cuda/cudart_stub.cc:28] Could not find cuda drivers on your machine, GPU will not be used.\n",
      "2023-09-20 12:59:21.177843: I tensorflow/tsl/cuda/cudart_stub.cc:28] Could not find cuda drivers on your machine, GPU will not be used.\n",
      "2023-09-20 12:59:21.181604: I tensorflow/core/platform/cpu_feature_guard.cc:182] This TensorFlow binary is optimized to use available CPU instructions in performance-critical operations.\n",
      "To enable the following instructions: AVX2 FMA, in other operations, rebuild TensorFlow with the appropriate compiler flags.\n",
      "2023-09-20 12:59:24.350808: W tensorflow/compiler/tf2tensorrt/utils/py_utils.cc:38] TF-TRT Warning: Could not find TensorRT\n"
     ]
    }
   ],
   "source": [
    "import numpy as np\n",
    "import os\n",
    "import tensorflow as tf"
   ]
  },
  {
   "cell_type": "code",
   "execution_count": 2,
   "id": "d102cba4-a834-400c-aa66-6e00553f8a34",
   "metadata": {},
   "outputs": [],
   "source": [
    "data_dir=\"Dataset_l/Plant_Disease/\"\n",
    "train_dir=os.path.join(data_dir,\"train\")\n",
    "val_dir=os.path.join(data_dir,\"validation\")\n",
    "test_dir=os.path.join(data_dir,\"test\")"
   ]
  },
  {
   "cell_type": "code",
   "execution_count": 3,
   "id": "eec4b828-9c1d-4f5d-8718-c52f50b329e7",
   "metadata": {},
   "outputs": [
    {
     "name": "stdout",
     "output_type": "stream",
     "text": [
      "['grape', 'tomato', 'corn (maize)', 'peach', 'squash', 'Rice', 'apple', 'Cassava', 'cherry (including sour)', 'potato', 'strawberry', 'orange', 'pepper, bell']\n"
     ]
    }
   ],
   "source": [
    "labels=os.listdir(train_dir)\n",
    "print(labels)"
   ]
  },
  {
   "cell_type": "code",
   "execution_count": null,
   "id": "b0585be6-74f5-48ce-93d3-d06fe1f666e5",
   "metadata": {},
   "outputs": [],
   "source": []
  },
  {
   "cell_type": "code",
   "execution_count": 4,
   "id": "57ce1b29-1c37-471a-8d26-d374227a817d",
   "metadata": {},
   "outputs": [
    {
     "name": "stdout",
     "output_type": "stream",
     "text": [
      "['leaf blight (isariopsis leaf spot)', 'healthy', 'esca (black measles)', 'black rot']\n",
      "['late blight', 'early blight', 'spider mites two-spotted spider mite', 'healthy', 'tomato mosaic virus', 'septoria leaf spot', 'tomato yellow leaf curl virus', 'target spot', 'leaf mold', 'bacterial spot']\n",
      "['healthy', 'cercospora leaf spot gray leaf spot', 'common rust', 'northern leaf blight']\n",
      "['healthy', 'bacterial spot']\n",
      "['powdery mildew']\n",
      "['BrownSpot', 'LeafBlast', 'Hispa', 'Healthy']\n",
      "['healthy', 'apple scab', 'cedar apple rust', 'black rot']\n",
      "['Bacterial Blight (CBB)', 'Green Mottle (CGM)', 'Brown Streak Disease (CBSD)', 'Healthy', 'Mosaic Disease (CMD)']\n",
      "['healthy', 'powdery mildew']\n",
      "['late blight', 'early blight', 'healthy']\n",
      "['leaf scorch', 'healthy']\n",
      "['haunglongbing (citrus greening)']\n",
      "['healthy', 'bacterial spot']\n"
     ]
    }
   ],
   "source": [
    "for i in labels:\n",
    "    from tensorflow.keras.preprocessing.image import ImageDataGenerator\n",
    "    train_datagen=ImageDataGenerator(\n",
    "        rescale=1./255,\n",
    "        rotation_range=0.2,\n",
    "            horizontal_flip=True\n",
    "    )\n",
    "    test_datagen=ImageDataGenerator(rescale=1./255)\n",
    "    validation_datagen=ImageDataGenerator(rescale=1./255)\n",
    "    new_train_dir=os.path.join(train_dir,i)\n",
    "    new_val_dir=os.path.join(train_dir,i)\n",
    "    new_test_dir=os.path.join(train_dir,i)\n",
    "    train_generator=train_datagen.flow_from_directory(\n",
    "        new_train_dir,\n",
    "        target_size=(256,256),\n",
    "        batch_size=32,\n",
    "        class_mode='categorical'\n",
    "    )\n",
    "    \n",
    "    val_generator=train_datagen.flow_from_directory(\n",
    "        new_val_dir,\n",
    "        target_size=(256,256),\n",
    "        batch_size=32,\n",
    "        class_mode='categorical'\n",
    "    )\n",
    "    \n",
    "    test_generator=train_datagen.flow_from_directory(\n",
    "        new_test_dir,\n",
    "        target_size=(256,256),\n",
    "        batch_size=32,\n",
    "        class_mode='categorical'\n",
    "    )\n",
    "    model = Sequential()\n",
    "    model.add(layers.Conv2D(32,(3,3),activation=\"relu\",padding=\"same\",input_shape=(256,256,3)))\n",
    "    model.add(layers.Conv2D(32,(3,3),activation=\"relu\",padding=\"same\"))\n",
    "    model.add(layers.MaxPooling2D(3,3))\n",
    "    \n",
    "    model.add(layers.Conv2D(64,(3,3),activation=\"relu\",padding=\"same\"))\n",
    "    model.add(layers.Conv2D(64,(3,3),activation=\"relu\",padding=\"same\"))\n",
    "    model.add(layers.MaxPooling2D(3,3))\n",
    "    \n",
    "    model.add(layers.Conv2D(128,(3,3),activation=\"relu\",padding=\"same\"))\n",
    "    model.add(layers.Conv2D(128,(3,3),activation=\"relu\",padding=\"same\"))\n",
    "    model.add(layers.MaxPooling2D(3,3))\n",
    "    \n",
    "    model.add(layers.Flatten())\n",
    "    \n",
    "    model.add(layers.Dense(256,activation=\"relu\"))\n",
    "    model.add(layers.Dropout(0.5))\n",
    "    \n",
    "    model.add(layers.Dense(3,activation=\"softmax\"))\n",
    "    model.summary()\n",
    "    \n"
   ]
  },
  {
   "cell_type": "code",
   "execution_count": null,
   "id": "1bf34656-cf59-4719-a728-182d357542ce",
   "metadata": {},
   "outputs": [],
   "source": []
  },
  {
   "cell_type": "code",
   "execution_count": null,
   "id": "a8b07106-3a88-4574-9c5b-0901579963df",
   "metadata": {},
   "outputs": [],
   "source": []
  },
  {
   "cell_type": "code",
   "execution_count": null,
   "id": "1584957a-7c29-4289-a226-96747661051f",
   "metadata": {},
   "outputs": [],
   "source": []
  },
  {
   "cell_type": "code",
   "execution_count": null,
   "id": "927f2a25-ff9f-4f42-8ec2-4752419d6070",
   "metadata": {},
   "outputs": [],
   "source": []
  }
 ],
 "metadata": {
  "kernelspec": {
   "display_name": "Python 3 (ipykernel)",
   "language": "python",
   "name": "python3"
  },
  "language_info": {
   "codemirror_mode": {
    "name": "ipython",
    "version": 3
   },
   "file_extension": ".py",
   "mimetype": "text/x-python",
   "name": "python",
   "nbconvert_exporter": "python",
   "pygments_lexer": "ipython3",
   "version": "3.10.12"
  }
 },
 "nbformat": 4,
 "nbformat_minor": 5
}
