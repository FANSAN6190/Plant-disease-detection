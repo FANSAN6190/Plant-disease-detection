{
 "cells": [
  {
   "cell_type": "code",
   "execution_count": 20,
   "id": "39192bc4-9e73-4ec1-8c9c-89140853c8d0",
   "metadata": {},
   "outputs": [],
   "source": [
    "import numpy as np\n",
    "import os\n",
    "import tensorflow as tf"
   ]
  },
  {
   "cell_type": "code",
   "execution_count": 2,
   "id": "b4d63a2e-4c2e-4fb5-b048-2c0126e1ffe8",
   "metadata": {},
   "outputs": [],
   "source": [
    "data_dir=\"Dataset_l/Plant_Disease/\"\n",
    "train_dir=os.path.join(data_dir,\"train\")\n",
    "val_dir=os.path.join(data_dir,\"validation\")\n",
    "test_dir=os.path.join(data_dir,\"test\")"
   ]
  },
  {
   "cell_type": "code",
   "execution_count": 3,
   "id": "be0ac30c-8378-4f0a-a01b-f6a79ffbfe57",
   "metadata": {},
   "outputs": [
    {
     "name": "stdout",
     "output_type": "stream",
     "text": [
      "['grape', 'tomato', 'corn (maize)', 'peach', 'squash', 'Rice', 'apple', 'Cassava', 'cherry (including sour)', 'potato', 'strawberry', 'orange', 'pepper, bell']\n"
     ]
    }
   ],
   "source": [
    "labels=os.listdir(train_dir)\n",
    "print(labels)\n"
   ]
  },
  {
   "cell_type": "code",
   "execution_count": 4,
   "id": "1da914df-56c7-4fa6-b4a7-5f3497ecc77d",
   "metadata": {},
   "outputs": [
    {
     "name": "stdout",
     "output_type": "stream",
     "text": [
      "['leaf blight (isariopsis leaf spot)', 'healthy', 'esca (black measles)', 'black rot']\n",
      "['late blight', 'early blight', 'spider mites two-spotted spider mite', 'healthy', 'tomato mosaic virus', 'septoria leaf spot', 'tomato yellow leaf curl virus', 'target spot', 'leaf mold', 'bacterial spot']\n",
      "['healthy', 'cercospora leaf spot gray leaf spot', 'common rust', 'northern leaf blight']\n",
      "['healthy', 'bacterial spot']\n",
      "['powdery mildew']\n",
      "['BrownSpot', 'LeafBlast', 'Hispa', 'Healthy']\n",
      "['healthy', 'apple scab', 'cedar apple rust', 'black rot']\n",
      "['Bacterial Blight (CBB)', 'Green Mottle (CGM)', 'Brown Streak Disease (CBSD)', 'Healthy', 'Mosaic Disease (CMD)']\n",
      "['healthy', 'powdery mildew']\n",
      "['late blight', 'early blight', 'healthy']\n",
      "['leaf scorch', 'healthy']\n",
      "['haunglongbing (citrus greening)']\n",
      "['healthy', 'bacterial spot']\n"
     ]
    }
   ],
   "source": [
    "for i in labels:\n",
    "    disease=os.path.join(train_dir,i)\n",
    "    disease=os.listdir(disease)\n",
    "    print(disease)"
   ]
  },
  {
   "cell_type": "code",
   "execution_count": 24,
   "id": "7a9a7569-8a4b-4795-8cef-12da9a294cda",
   "metadata": {},
   "outputs": [
    {
     "name": "stdout",
     "output_type": "stream",
     "text": [
      "Found 2927 images belonging to 4 classes.\n",
      "Found 13083 images belonging to 10 classes.\n",
      "Found 2776 images belonging to 4 classes.\n",
      "Found 1915 images belonging to 2 classes.\n",
      "Found 1322 images belonging to 1 classes.\n",
      "Found 2419 images belonging to 4 classes.\n",
      "Found 2286 images belonging to 4 classes.\n",
      "Found 1573 images belonging to 5 classes.\n",
      "Found 1374 images belonging to 2 classes.\n",
      "Found 1550 images belonging to 3 classes.\n",
      "Found 1129 images belonging to 2 classes.\n",
      "Found 3966 images belonging to 1 classes.\n",
      "Found 1784 images belonging to 2 classes.\n",
      "Found 730 images belonging to 4 classes.\n",
      "Found 3265 images belonging to 10 classes.\n",
      "Found 692 images belonging to 4 classes.\n",
      "Found 477 images belonging to 2 classes.\n",
      "Found 330 images belonging to 1 classes.\n",
      "Found 603 images belonging to 4 classes.\n",
      "Found 569 images belonging to 4 classes.\n",
      "Found 346 images belonging to 5 classes.\n",
      "Found 342 images belonging to 2 classes.\n",
      "Found 387 images belonging to 3 classes.\n",
      "Found 281 images belonging to 2 classes.\n",
      "Found 991 images belonging to 1 classes.\n",
      "Found 445 images belonging to 2 classes.\n",
      "Found 405 images belonging to 4 classes.\n",
      "Found 1812 images belonging to 10 classes.\n",
      "Found 384 images belonging to 4 classes.\n",
      "Found 265 images belonging to 2 classes.\n",
      "Found 183 images belonging to 1 classes.\n",
      "Found 333 images belonging to 4 classes.\n",
      "Found 316 images belonging to 4 classes.\n",
      "Found 687 images belonging to 5 classes.\n",
      "Found 190 images belonging to 2 classes.\n",
      "Found 215 images belonging to 3 classes.\n",
      "Found 155 images belonging to 2 classes.\n",
      "Found 550 images belonging to 1 classes.\n",
      "Found 246 images belonging to 2 classes.\n"
     ]
    }
   ],
   "source": [
    "#preprocessing and normalization\n",
    "from tensorflow.keras.preprocessing.image import ImageDataGenerator\n",
    "train_datagen=[]\n",
    "test_datagen=[]\n",
    "validation_datagen=[]\n",
    "for i in labels:\n",
    "    train_datagen.append(ImageDataGenerator(\n",
    "        rescale=1./255,\n",
    "        rotation_range=0.2,\n",
    "            horizontal_flip=True\n",
    "    ))\n",
    "    test_datagen.append(ImageDataGenerator(rescale=1./255))\n",
    "    validation_datagen.append(ImageDataGenerator(rescale=1./255))\n",
    "\n",
    "train_generator=[]\n",
    "val_generator=[]\n",
    "test_generator=[]\n",
    "k=0\n",
    "for i in train_datagen:\n",
    "    new_train_dir=os.path.join(train_dir,labels[k])\n",
    "    train_generator.append(i.flow_from_directory(\n",
    "        new_train_dir,\n",
    "        target_size=(256,256),\n",
    "        color_mode=\"rgb\",\n",
    "        batch_size=32,\n",
    "        class_mode='categorical'\n",
    "    ))\n",
    "    k+=1\n",
    "k=0\n",
    "for i in validation_datagen:\n",
    "    new_val_dir=os.path.join(val_dir,labels[k])\n",
    "    val_generator.append(i.flow_from_directory(\n",
    "        new_val_dir,\n",
    "        target_size=(256,256),\n",
    "        color_mode=\"rgb\",\n",
    "        batch_size=32,\n",
    "        class_mode='categorical'\n",
    "    ))\n",
    "    k+=1\n",
    "k=0\n",
    "for i in test_datagen:\n",
    "    new_test_dir=os.path.join(test_dir,labels[k])\n",
    "    test_generator=i.flow_from_directory(\n",
    "        new_test_dir,\n",
    "        target_size=(256,256),\n",
    "        color_mode=\"rgb\",\n",
    "        batch_size=32,\n",
    "        class_mode='categorical'\n",
    "    )\n",
    "    k+=1\n"
   ]
  },
  {
   "cell_type": "code",
   "execution_count": null,
   "id": "b93bda1b-8a57-46f3-9eba-aada9883a019",
   "metadata": {},
   "outputs": [],
   "source": []
  },
  {
   "cell_type": "code",
   "execution_count": 25,
   "id": "35068732-ee20-44c1-b325-d2a1fc3d5fc2",
   "metadata": {},
   "outputs": [],
   "source": [
    "from tensorflow.keras.callbacks import EarlyStopping\n",
    "from tensorflow.keras import Sequential\n",
    "from tensorflow.keras import layers\n",
    "from tensorflow.keras.optimizers.legacy import Adam"
   ]
  },
  {
   "cell_type": "code",
   "execution_count": 31,
   "id": "8deb9523-23c3-4d68-b672-0f6f24363243",
   "metadata": {},
   "outputs": [
    {
     "name": "stdout",
     "output_type": "stream",
     "text": [
      "Model: \"sequential_2\"\n",
      "_________________________________________________________________\n",
      " Layer (type)                Output Shape              Param #   \n",
      "=================================================================\n",
      " conv2d_12 (Conv2D)          (None, 256, 256, 32)      896       \n",
      "                                                                 \n",
      " conv2d_13 (Conv2D)          (None, 256, 256, 32)      9248      \n",
      "                                                                 \n",
      " max_pooling2d_6 (MaxPoolin  (None, 85, 85, 32)        0         \n",
      " g2D)                                                            \n",
      "                                                                 \n",
      " conv2d_14 (Conv2D)          (None, 85, 85, 64)        18496     \n",
      "                                                                 \n",
      " conv2d_15 (Conv2D)          (None, 85, 85, 64)        36928     \n",
      "                                                                 \n",
      " max_pooling2d_7 (MaxPoolin  (None, 28, 28, 64)        0         \n",
      " g2D)                                                            \n",
      "                                                                 \n",
      " conv2d_16 (Conv2D)          (None, 28, 28, 128)       73856     \n",
      "                                                                 \n",
      " conv2d_17 (Conv2D)          (None, 28, 28, 128)       147584    \n",
      "                                                                 \n",
      " max_pooling2d_8 (MaxPoolin  (None, 9, 9, 128)         0         \n",
      " g2D)                                                            \n",
      "                                                                 \n",
      " flatten_2 (Flatten)         (None, 10368)             0         \n",
      "                                                                 \n",
      " dense_4 (Dense)             (None, 256)               2654464   \n",
      "                                                                 \n",
      " dropout_2 (Dropout)         (None, 256)               0         \n",
      "                                                                 \n",
      " dense_5 (Dense)             (None, 3)                 771       \n",
      "                                                                 \n",
      "=================================================================\n",
      "Total params: 2942243 (11.22 MB)\n",
      "Trainable params: 2942243 (11.22 MB)\n",
      "Non-trainable params: 0 (0.00 Byte)\n",
      "_________________________________________________________________\n"
     ]
    }
   ],
   "source": [
    "model=Sequentiamodel = Sequential()\n",
    "model.add(layers.Conv2D(32,(3,3),activation=\"relu\",padding=\"same\",input_shape=(256,256,3)))\n",
    "model.add(layers.Conv2D(32,(3,3),activation=\"relu\",padding=\"same\"))\n",
    "model.add(layers.MaxPooling2D(3,3))\n",
    "\n",
    "model.add(layers.Conv2D(64,(3,3),activation=\"relu\",padding=\"same\"))\n",
    "model.add(layers.Conv2D(64,(3,3),activation=\"relu\",padding=\"same\"))\n",
    "model.add(layers.MaxPooling2D(3,3))\n",
    "\n",
    "model.add(layers.Conv2D(128,(3,3),activation=\"relu\",padding=\"same\"))\n",
    "model.add(layers.Conv2D(128,(3,3),activation=\"relu\",padding=\"same\"))\n",
    "model.add(layers.MaxPooling2D(3,3))\n",
    "\n",
    "model.add(layers.Flatten())\n",
    "\n",
    "model.add(layers.Dense(256,activation=\"relu\"))\n",
    "model.add(layers.Dropout(0.5))\n",
    "\n",
    "model.add(layers.Dense(3,activation=\"softmax\"))\n",
    "model.summary()\n"
   ]
  },
  {
   "cell_type": "code",
   "execution_count": 41,
   "id": "d37ff735-c85d-4807-a0bd-50eefdd51e10",
   "metadata": {},
   "outputs": [],
   "source": [
    "#tb_callback2=tf.keras.callbacks.TensorBoard(log_dir=\"logs/\",histogram_freq=1)\n",
    "es = EarlyStopping(\n",
    "    min_delta=0.01,\n",
    "    patience=5,\n",
    "    restore_best_weights=True,\n",
    ")\n",
    "\n",
    "\n",
    "for i in range(len(train_generator)):\n",
    "    model.compile(\n",
    "        optimizer=Adam(learning_rate=0.0001),\n",
    "        loss='sparse_categorical_crossentropy',\n",
    "        metrics=['accuracy'])\n"
   ]
  },
  {
   "cell_type": "code",
   "execution_count": 42,
   "id": "cdace8d7-2ebe-44c9-9d8f-484e3c6d9b4e",
   "metadata": {},
   "outputs": [
    {
     "name": "stdout",
     "output_type": "stream",
     "text": [
      "Epoch 1/50\n"
     ]
    },
    {
     "ename": "InvalidArgumentError",
     "evalue": "Graph execution error:\n\nDetected at node 'gradient_tape/log_cosh/sub/BroadcastGradientArgs' defined at (most recent call last):\n    File \"/usr/lib/python3.10/runpy.py\", line 196, in _run_module_as_main\n      return _run_code(code, main_globals, None,\n    File \"/usr/lib/python3.10/runpy.py\", line 86, in _run_code\n      exec(code, run_globals)\n    File \"/home/fansan/.local/lib/python3.10/site-packages/ipykernel_launcher.py\", line 17, in <module>\n      app.launch_new_instance()\n    File \"/home/fansan/.local/lib/python3.10/site-packages/traitlets/config/application.py\", line 1043, in launch_instance\n      app.start()\n    File \"/home/fansan/.local/lib/python3.10/site-packages/ipykernel/kernelapp.py\", line 736, in start\n      self.io_loop.start()\n    File \"/home/fansan/.local/lib/python3.10/site-packages/tornado/platform/asyncio.py\", line 195, in start\n      self.asyncio_loop.run_forever()\n    File \"/usr/lib/python3.10/asyncio/base_events.py\", line 603, in run_forever\n      self._run_once()\n    File \"/usr/lib/python3.10/asyncio/base_events.py\", line 1909, in _run_once\n      handle._run()\n    File \"/usr/lib/python3.10/asyncio/events.py\", line 80, in _run\n      self._context.run(self._callback, *self._args)\n    File \"/home/fansan/.local/lib/python3.10/site-packages/ipykernel/kernelbase.py\", line 516, in dispatch_queue\n      await self.process_one()\n    File \"/home/fansan/.local/lib/python3.10/site-packages/ipykernel/kernelbase.py\", line 505, in process_one\n      await dispatch(*args)\n    File \"/home/fansan/.local/lib/python3.10/site-packages/ipykernel/kernelbase.py\", line 412, in dispatch_shell\n      await result\n    File \"/home/fansan/.local/lib/python3.10/site-packages/ipykernel/kernelbase.py\", line 740, in execute_request\n      reply_content = await reply_content\n    File \"/home/fansan/.local/lib/python3.10/site-packages/ipykernel/ipkernel.py\", line 422, in do_execute\n      res = shell.run_cell(\n    File \"/home/fansan/.local/lib/python3.10/site-packages/ipykernel/zmqshell.py\", line 546, in run_cell\n      return super().run_cell(*args, **kwargs)\n    File \"/home/fansan/.local/lib/python3.10/site-packages/IPython/core/interactiveshell.py\", line 3009, in run_cell\n      result = self._run_cell(\n    File \"/home/fansan/.local/lib/python3.10/site-packages/IPython/core/interactiveshell.py\", line 3064, in _run_cell\n      result = runner(coro)\n    File \"/home/fansan/.local/lib/python3.10/site-packages/IPython/core/async_helpers.py\", line 129, in _pseudo_sync_runner\n      coro.send(None)\n    File \"/home/fansan/.local/lib/python3.10/site-packages/IPython/core/interactiveshell.py\", line 3269, in run_cell_async\n      has_raised = await self.run_ast_nodes(code_ast.body, cell_name,\n    File \"/home/fansan/.local/lib/python3.10/site-packages/IPython/core/interactiveshell.py\", line 3448, in run_ast_nodes\n      if await self.run_code(code, result, async_=asy):\n    File \"/home/fansan/.local/lib/python3.10/site-packages/IPython/core/interactiveshell.py\", line 3508, in run_code\n      exec(code_obj, self.user_global_ns, self.user_ns)\n    File \"/tmp/ipykernel_4912/2324554852.py\", line 3, in <module>\n      log=model.fit(train_generator[i],\n    File \"/home/fansan/.local/lib/python3.10/site-packages/keras/src/utils/traceback_utils.py\", line 65, in error_handler\n      return fn(*args, **kwargs)\n    File \"/home/fansan/.local/lib/python3.10/site-packages/keras/src/engine/training.py\", line 1742, in fit\n      tmp_logs = self.train_function(iterator)\n    File \"/home/fansan/.local/lib/python3.10/site-packages/keras/src/engine/training.py\", line 1338, in train_function\n      return step_function(self, iterator)\n    File \"/home/fansan/.local/lib/python3.10/site-packages/keras/src/engine/training.py\", line 1322, in step_function\n      outputs = model.distribute_strategy.run(run_step, args=(data,))\n    File \"/home/fansan/.local/lib/python3.10/site-packages/keras/src/engine/training.py\", line 1303, in run_step\n      outputs = model.train_step(data)\n    File \"/home/fansan/.local/lib/python3.10/site-packages/keras/src/engine/training.py\", line 1084, in train_step\n      self.optimizer.minimize(loss, self.trainable_variables, tape=tape)\n    File \"/home/fansan/.local/lib/python3.10/site-packages/keras/src/optimizers/legacy/optimizer_v2.py\", line 598, in minimize\n      grads_and_vars = self._compute_gradients(\n    File \"/home/fansan/.local/lib/python3.10/site-packages/keras/src/optimizers/legacy/optimizer_v2.py\", line 656, in _compute_gradients\n      grads_and_vars = self._get_gradients(\n    File \"/home/fansan/.local/lib/python3.10/site-packages/keras/src/optimizers/legacy/optimizer_v2.py\", line 532, in _get_gradients\n      grads = tape.gradient(loss, var_list, grad_loss)\nNode: 'gradient_tape/log_cosh/sub/BroadcastGradientArgs'\nIncompatible shapes: [32,3] vs. [32,4]\n\t [[{{node gradient_tape/log_cosh/sub/BroadcastGradientArgs}}]] [Op:__inference_train_function_5390]",
     "output_type": "error",
     "traceback": [
      "\u001b[0;31m---------------------------------------------------------------------------\u001b[0m",
      "\u001b[0;31mInvalidArgumentError\u001b[0m                      Traceback (most recent call last)",
      "Cell \u001b[0;32mIn[42], line 3\u001b[0m\n\u001b[1;32m      1\u001b[0m history\u001b[38;5;241m=\u001b[39m[]\n\u001b[1;32m      2\u001b[0m \u001b[38;5;28;01mfor\u001b[39;00m i \u001b[38;5;129;01min\u001b[39;00m \u001b[38;5;28mrange\u001b[39m(\u001b[38;5;28mlen\u001b[39m(train_generator)):\n\u001b[0;32m----> 3\u001b[0m     log\u001b[38;5;241m=\u001b[39m\u001b[43mmodel\u001b[49m\u001b[38;5;241;43m.\u001b[39;49m\u001b[43mfit\u001b[49m\u001b[43m(\u001b[49m\u001b[43mtrain_generator\u001b[49m\u001b[43m[\u001b[49m\u001b[43mi\u001b[49m\u001b[43m]\u001b[49m\u001b[43m,\u001b[49m\n\u001b[1;32m      4\u001b[0m \u001b[43m                      \u001b[49m\u001b[43mepochs\u001b[49m\u001b[38;5;241;43m=\u001b[39;49m\u001b[38;5;241;43m50\u001b[39;49m\u001b[43m,\u001b[49m\n\u001b[1;32m      5\u001b[0m \u001b[43m                      \u001b[49m\u001b[43mcallbacks\u001b[49m\u001b[38;5;241;43m=\u001b[39;49m\u001b[43m[\u001b[49m\u001b[43mes\u001b[49m\u001b[43m]\u001b[49m\u001b[43m,\u001b[49m\n\u001b[1;32m      6\u001b[0m \u001b[43m                      \u001b[49m\u001b[43mvalidation_data\u001b[49m\u001b[38;5;241;43m=\u001b[39;49m\u001b[43mval_generator\u001b[49m\u001b[43m[\u001b[49m\u001b[43mi\u001b[49m\u001b[43m]\u001b[49m\n\u001b[1;32m      7\u001b[0m \u001b[43m    \u001b[49m\u001b[43m)\u001b[49m\n\u001b[1;32m      8\u001b[0m     history\u001b[38;5;241m.\u001b[39mappend(log)\n",
      "File \u001b[0;32m~/.local/lib/python3.10/site-packages/keras/src/utils/traceback_utils.py:70\u001b[0m, in \u001b[0;36mfilter_traceback.<locals>.error_handler\u001b[0;34m(*args, **kwargs)\u001b[0m\n\u001b[1;32m     67\u001b[0m     filtered_tb \u001b[38;5;241m=\u001b[39m _process_traceback_frames(e\u001b[38;5;241m.\u001b[39m__traceback__)\n\u001b[1;32m     68\u001b[0m     \u001b[38;5;66;03m# To get the full stack trace, call:\u001b[39;00m\n\u001b[1;32m     69\u001b[0m     \u001b[38;5;66;03m# `tf.debugging.disable_traceback_filtering()`\u001b[39;00m\n\u001b[0;32m---> 70\u001b[0m     \u001b[38;5;28;01mraise\u001b[39;00m e\u001b[38;5;241m.\u001b[39mwith_traceback(filtered_tb) \u001b[38;5;28;01mfrom\u001b[39;00m \u001b[38;5;28;01mNone\u001b[39;00m\n\u001b[1;32m     71\u001b[0m \u001b[38;5;28;01mfinally\u001b[39;00m:\n\u001b[1;32m     72\u001b[0m     \u001b[38;5;28;01mdel\u001b[39;00m filtered_tb\n",
      "File \u001b[0;32m~/.local/lib/python3.10/site-packages/tensorflow/python/eager/execute.py:53\u001b[0m, in \u001b[0;36mquick_execute\u001b[0;34m(op_name, num_outputs, inputs, attrs, ctx, name)\u001b[0m\n\u001b[1;32m     51\u001b[0m \u001b[38;5;28;01mtry\u001b[39;00m:\n\u001b[1;32m     52\u001b[0m   ctx\u001b[38;5;241m.\u001b[39mensure_initialized()\n\u001b[0;32m---> 53\u001b[0m   tensors \u001b[38;5;241m=\u001b[39m pywrap_tfe\u001b[38;5;241m.\u001b[39mTFE_Py_Execute(ctx\u001b[38;5;241m.\u001b[39m_handle, device_name, op_name,\n\u001b[1;32m     54\u001b[0m                                       inputs, attrs, num_outputs)\n\u001b[1;32m     55\u001b[0m \u001b[38;5;28;01mexcept\u001b[39;00m core\u001b[38;5;241m.\u001b[39m_NotOkStatusException \u001b[38;5;28;01mas\u001b[39;00m e:\n\u001b[1;32m     56\u001b[0m   \u001b[38;5;28;01mif\u001b[39;00m name \u001b[38;5;129;01mis\u001b[39;00m \u001b[38;5;129;01mnot\u001b[39;00m \u001b[38;5;28;01mNone\u001b[39;00m:\n",
      "\u001b[0;31mInvalidArgumentError\u001b[0m: Graph execution error:\n\nDetected at node 'gradient_tape/log_cosh/sub/BroadcastGradientArgs' defined at (most recent call last):\n    File \"/usr/lib/python3.10/runpy.py\", line 196, in _run_module_as_main\n      return _run_code(code, main_globals, None,\n    File \"/usr/lib/python3.10/runpy.py\", line 86, in _run_code\n      exec(code, run_globals)\n    File \"/home/fansan/.local/lib/python3.10/site-packages/ipykernel_launcher.py\", line 17, in <module>\n      app.launch_new_instance()\n    File \"/home/fansan/.local/lib/python3.10/site-packages/traitlets/config/application.py\", line 1043, in launch_instance\n      app.start()\n    File \"/home/fansan/.local/lib/python3.10/site-packages/ipykernel/kernelapp.py\", line 736, in start\n      self.io_loop.start()\n    File \"/home/fansan/.local/lib/python3.10/site-packages/tornado/platform/asyncio.py\", line 195, in start\n      self.asyncio_loop.run_forever()\n    File \"/usr/lib/python3.10/asyncio/base_events.py\", line 603, in run_forever\n      self._run_once()\n    File \"/usr/lib/python3.10/asyncio/base_events.py\", line 1909, in _run_once\n      handle._run()\n    File \"/usr/lib/python3.10/asyncio/events.py\", line 80, in _run\n      self._context.run(self._callback, *self._args)\n    File \"/home/fansan/.local/lib/python3.10/site-packages/ipykernel/kernelbase.py\", line 516, in dispatch_queue\n      await self.process_one()\n    File \"/home/fansan/.local/lib/python3.10/site-packages/ipykernel/kernelbase.py\", line 505, in process_one\n      await dispatch(*args)\n    File \"/home/fansan/.local/lib/python3.10/site-packages/ipykernel/kernelbase.py\", line 412, in dispatch_shell\n      await result\n    File \"/home/fansan/.local/lib/python3.10/site-packages/ipykernel/kernelbase.py\", line 740, in execute_request\n      reply_content = await reply_content\n    File \"/home/fansan/.local/lib/python3.10/site-packages/ipykernel/ipkernel.py\", line 422, in do_execute\n      res = shell.run_cell(\n    File \"/home/fansan/.local/lib/python3.10/site-packages/ipykernel/zmqshell.py\", line 546, in run_cell\n      return super().run_cell(*args, **kwargs)\n    File \"/home/fansan/.local/lib/python3.10/site-packages/IPython/core/interactiveshell.py\", line 3009, in run_cell\n      result = self._run_cell(\n    File \"/home/fansan/.local/lib/python3.10/site-packages/IPython/core/interactiveshell.py\", line 3064, in _run_cell\n      result = runner(coro)\n    File \"/home/fansan/.local/lib/python3.10/site-packages/IPython/core/async_helpers.py\", line 129, in _pseudo_sync_runner\n      coro.send(None)\n    File \"/home/fansan/.local/lib/python3.10/site-packages/IPython/core/interactiveshell.py\", line 3269, in run_cell_async\n      has_raised = await self.run_ast_nodes(code_ast.body, cell_name,\n    File \"/home/fansan/.local/lib/python3.10/site-packages/IPython/core/interactiveshell.py\", line 3448, in run_ast_nodes\n      if await self.run_code(code, result, async_=asy):\n    File \"/home/fansan/.local/lib/python3.10/site-packages/IPython/core/interactiveshell.py\", line 3508, in run_code\n      exec(code_obj, self.user_global_ns, self.user_ns)\n    File \"/tmp/ipykernel_4912/2324554852.py\", line 3, in <module>\n      log=model.fit(train_generator[i],\n    File \"/home/fansan/.local/lib/python3.10/site-packages/keras/src/utils/traceback_utils.py\", line 65, in error_handler\n      return fn(*args, **kwargs)\n    File \"/home/fansan/.local/lib/python3.10/site-packages/keras/src/engine/training.py\", line 1742, in fit\n      tmp_logs = self.train_function(iterator)\n    File \"/home/fansan/.local/lib/python3.10/site-packages/keras/src/engine/training.py\", line 1338, in train_function\n      return step_function(self, iterator)\n    File \"/home/fansan/.local/lib/python3.10/site-packages/keras/src/engine/training.py\", line 1322, in step_function\n      outputs = model.distribute_strategy.run(run_step, args=(data,))\n    File \"/home/fansan/.local/lib/python3.10/site-packages/keras/src/engine/training.py\", line 1303, in run_step\n      outputs = model.train_step(data)\n    File \"/home/fansan/.local/lib/python3.10/site-packages/keras/src/engine/training.py\", line 1084, in train_step\n      self.optimizer.minimize(loss, self.trainable_variables, tape=tape)\n    File \"/home/fansan/.local/lib/python3.10/site-packages/keras/src/optimizers/legacy/optimizer_v2.py\", line 598, in minimize\n      grads_and_vars = self._compute_gradients(\n    File \"/home/fansan/.local/lib/python3.10/site-packages/keras/src/optimizers/legacy/optimizer_v2.py\", line 656, in _compute_gradients\n      grads_and_vars = self._get_gradients(\n    File \"/home/fansan/.local/lib/python3.10/site-packages/keras/src/optimizers/legacy/optimizer_v2.py\", line 532, in _get_gradients\n      grads = tape.gradient(loss, var_list, grad_loss)\nNode: 'gradient_tape/log_cosh/sub/BroadcastGradientArgs'\nIncompatible shapes: [32,3] vs. [32,4]\n\t [[{{node gradient_tape/log_cosh/sub/BroadcastGradientArgs}}]] [Op:__inference_train_function_5390]"
     ]
    }
   ],
   "source": [
    "\n"
   ]
  },
  {
   "cell_type": "code",
   "execution_count": null,
   "id": "fa0e8157-cd43-45c1-82da-da1dd944d461",
   "metadata": {},
   "outputs": [],
   "source": []
  },
  {
   "cell_type": "code",
   "execution_count": null,
   "id": "c6debb26-2e5d-47be-af31-a0cbabf5cd5b",
   "metadata": {},
   "outputs": [],
   "source": []
  }
 ],
 "metadata": {
  "kernelspec": {
   "display_name": "Python 3 (ipykernel)",
   "language": "python",
   "name": "python3"
  },
  "language_info": {
   "codemirror_mode": {
    "name": "ipython",
    "version": 3
   },
   "file_extension": ".py",
   "mimetype": "text/x-python",
   "name": "python",
   "nbconvert_exporter": "python",
   "pygments_lexer": "ipython3",
   "version": "3.10.12"
  }
 },
 "nbformat": 4,
 "nbformat_minor": 5
}
